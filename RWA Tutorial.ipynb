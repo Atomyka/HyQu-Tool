{
 "cells": [
  {
   "cell_type": "markdown",
   "id": "21d52139",
   "metadata": {},
   "source": [
    "# Xinyu's Thesis in Sympsi - Tutorial"
   ]
  },
  {
   "cell_type": "markdown",
   "id": "f7ef2ff7",
   "metadata": {},
   "source": [
    "_HyQu Group, ETH Zurich_\n",
    "\n",
    "_A project by Anna Knörr & Uwe von Luepke, May 2021_"
   ]
  },
  {
   "cell_type": "markdown",
   "id": "f423241a",
   "metadata": {},
   "source": [
    "Sympy... what a wonderful world! Have you ever sat in front of way-too-long-Hamiltonians? Have you ever had to perform way-too-complicated-transformations? I'm sure you have. So, sympy will be your next best friend.\n",
    "\n",
    "(Of course, understanding calculations by doing them by hand is very valuable. But at least being able to check the correctness of your result with some computational support is certainly desirable!)\n",
    "\n",
    "Before we jump into the main part of this tutorial, i.e. how to use sympy to automate RWA approximations from Xinyu's thesis, here's a very nice introduction to the building blocks of Sympy: https://docs.sympy.org/latest/tutorial/manipulation.html.\n",
    "I highly recommend it in order to get a first understanding of what a Symbol in sympy is and how it is manipulated. Knowing what \"Add\" or \"Mul\" objects are etc. will be especially useful if you want to have a look at the code behind the functions in the hyqu.py file we will be using later."
   ]
  },
  {
   "cell_type": "markdown",
   "id": "93259aae",
   "metadata": {},
   "source": [
    "**Sympy vs. Sympsi**"
   ]
  },
  {
   "cell_type": "markdown",
   "id": "5c455118",
   "metadata": {},
   "source": [
    "Now, you might be wondering whether there is a typo in the title. Nope. Sympsi is a Python package based on sympy, but designed specifically for symbolical quantum mechanics. Documentation can be found here: https://github.com/sympsi/sympsi\n",
    "\n",
    "This package has many useful tools for the HyQu Group, such as boson operators which we see much of later. In particular, the file _qutility.py_ proved to be a good starting point for this project since it is equipped with functions such as _hamiltonian_transformation()_. Based on this file, we wrote a new file called _hyqu.py_ with functions to automate Xinyu's thesis. At present, this work is a pilot project that will hopefully be taken further in the future.\n",
    "\n",
    "This being said, let's get started!"
   ]
  },
  {
   "cell_type": "code",
   "execution_count": 1,
   "id": "c3fb9c86",
   "metadata": {},
   "outputs": [],
   "source": [
    "from sympy import *\n",
    "init_printing()"
   ]
  },
  {
   "cell_type": "markdown",
   "id": "4b758a18",
   "metadata": {},
   "source": [
    "In case you're wondering, _init_printing()_ will simply print our outputs in a nice format."
   ]
  },
  {
   "cell_type": "code",
   "execution_count": 53,
   "id": "bd328c2d",
   "metadata": {},
   "outputs": [],
   "source": [
    "from sympsi import *\n",
    "from sympsi.boson import MultiBosonOp, BosonFockKet, BosonOp"
   ]
  },
  {
   "cell_type": "markdown",
   "id": "f9549a9d",
   "metadata": {},
   "source": [
    "As hinted at earlier, we will be using boson operators. But what's up with the MultiBosonOp? Well, let's instantiate some operators and find out why."
   ]
  },
  {
   "cell_type": "code",
   "execution_count": 54,
   "id": "79c4882b",
   "metadata": {},
   "outputs": [],
   "source": [
    "mq = MultiBosonOp(\"m\", 0, 'discrete')\n",
    "m1 = MultiBosonOp(\"m\", 1, 'discrete')\n",
    "m2 = MultiBosonOp(\"m\", 2, 'discrete')"
   ]
  },
  {
   "cell_type": "markdown",
   "id": "aec568a0",
   "metadata": {},
   "source": [
    "We won't need the following two lines for RWA, but they're just for a taste of how one can work with states and operators in sympsi :) "
   ]
  },
  {
   "cell_type": "code",
   "execution_count": 63,
   "id": "53a4d326",
   "metadata": {},
   "outputs": [
    {
     "data": {
      "text/latex": [
       "$${\\left|0\\right\\rangle }$$"
      ],
      "text/plain": [
       "❘0⟩"
      ]
     },
     "execution_count": 63,
     "metadata": {},
     "output_type": "execute_result"
    }
   ],
   "source": [
    "q = BosonOp(\"q\")\n",
    "ket = BosonFockKet(0); ket"
   ]
  },
  {
   "cell_type": "code",
   "execution_count": 67,
   "id": "44d772c0",
   "metadata": {},
   "outputs": [
    {
     "data": {
      "text/latex": [
       "$$0$$"
      ],
      "text/plain": [
       "0"
      ]
     },
     "execution_count": 67,
     "metadata": {},
     "output_type": "execute_result"
    }
   ],
   "source": [
    "ket._apply_operator_BosonOp(q)"
   ]
  },
  {
   "cell_type": "markdown",
   "id": "b08df994",
   "metadata": {},
   "source": [
    "The notation might be a bit confusing at first, so let's walk it through. We will use **mq** as our qubit operator, denoted as _q_ in Xinyu's thesis. The phonon operators will be **m1** and **m2**, for simplicity we will stick to only two modes for now. Furthermore, MultiBosonOp creates bosonic annihilation operators that belong together - in the sense that all MultiBosonOp labelled with _'m'_ will commute. This is why we chose the MultiBosonOp version over BosonOp because indeed, we want the qubit and phonon modes to naturally commute. Let's check this:"
   ]
  },
  {
   "cell_type": "code",
   "execution_count": 4,
   "id": "a762f873",
   "metadata": {},
   "outputs": [
    {
     "data": {
      "text/latex": [
       "$$0$$"
      ],
      "text/plain": [
       "0"
      ]
     },
     "execution_count": 4,
     "metadata": {},
     "output_type": "execute_result"
    }
   ],
   "source": [
    "Commutator(mq, m1).doit()"
   ]
  },
  {
   "cell_type": "markdown",
   "id": "a192dee9",
   "metadata": {},
   "source": [
    "So far, so good. Now, let's build the Hamiltonian from section 2.1. This means we need to define our symbols."
   ]
  },
  {
   "cell_type": "markdown",
   "id": "14e10cea",
   "metadata": {},
   "source": [
    "# Building the Hamiltonian"
   ]
  },
  {
   "cell_type": "code",
   "execution_count": 5,
   "id": "8562fc3b",
   "metadata": {},
   "outputs": [
    {
     "data": {
      "text/latex": [
       "$$H = \\Omega_{1} e^{- i \\omega_{j1} t} {{m_{0}}^\\dagger} - \\frac{\\alpha {{m_{0}}^\\dagger}^{2}}{2} {m_{0}}^{2} + g_{1} {{m_{0}}^\\dagger} {m_{1}} + \\omega_{k1} {{m_{1}}^\\dagger} {m_{1}} + \\omega_{q} {{m_{0}}^\\dagger} {m_{0}} + e^{i \\omega_{j1} t} \\overline{\\Omega_{1}} {m_{0}} + \\overline{g_{1}} {m_{0}} {{m_{1}}^\\dagger}$$"
      ],
      "text/plain": [
       "                             2                                                \n",
       "                         ⎛ †⎞   2                                             \n",
       "        -ⅈ⋅ω_j1⋅t  †   α⋅⎝m ⎠ ⋅m        †          †          †      ⅈ⋅ω_j1⋅t \n",
       "H = Ω₁⋅ℯ         ⋅m  - ────────── + g₁⋅m ⋅m + ωₖ₁⋅m ⋅m + ω_q⋅m ⋅m + ℯ        ⋅\n",
       "                           2                                                  \n",
       "\n",
       "              \n",
       "              \n",
       "__     __    †\n",
       "Ω₁⋅m + g₁⋅m⋅m \n",
       "              "
      ]
     },
     "execution_count": 5,
     "metadata": {},
     "output_type": "execute_result"
    }
   ],
   "source": [
    "a,g1, g2, Om1, Om2, t, Hsym = symbols(\"alpha, g_1, g_2, Omega_1, Omega_2, t, H\")\n",
    "wq, wk1, wk2, wj1, wj2 = symbols(\"omega_q, omega_k1, omega_k2, omega_j1, omega_j2\")\n",
    "\n",
    "H0 = wq * Dagger(mq) * mq + wk1 * Dagger(m1) * m1  \n",
    "H_nonlinear = -a/2 * Dagger(mq) * Dagger(mq) * mq * mq\n",
    "H_coupling = g1 * Dagger(mq) * m1 + conjugate(g1) * mq * Dagger(m1)\n",
    "H_drive = Om1 * Dagger(mq) * exp(-I*wj1*t) + conjugate(Om1)* mq * exp(I*wj1*t)\n",
    "H = H0 + H_nonlinear + H_coupling + H_drive\n",
    "Eq(Hsym, H)"
   ]
  },
  {
   "cell_type": "markdown",
   "id": "d1e9f2bb",
   "metadata": {},
   "source": [
    "Now, let's try out some transformations. So, let's first enter the rotating frame of the qubit using **U1** and then test this unitary on our qubit and phonon operators."
   ]
  },
  {
   "cell_type": "code",
   "execution_count": 6,
   "id": "5ce4284d",
   "metadata": {},
   "outputs": [
    {
     "data": {
      "text/latex": [
       "$$U_{1} = e^{i t \\left(\\omega_{k1} {{m_{1}}^\\dagger} {m_{1}} + \\omega_{q} {{m_{0}}^\\dagger} {m_{0}}\\right)}$$"
      ],
      "text/plain": [
       "          ⎛     †          †  ⎞\n",
       "      ⅈ⋅t⋅⎝ωₖ₁⋅m ⋅m + ω_q⋅m ⋅m⎠\n",
       "U₁ = ℯ                         "
      ]
     },
     "execution_count": 6,
     "metadata": {},
     "output_type": "execute_result"
    }
   ],
   "source": [
    "U1 = exp(I *t*H0); Eq(symbols(\"U_1\"), U1)"
   ]
  },
  {
   "cell_type": "code",
   "execution_count": 18,
   "id": "e016e187",
   "metadata": {},
   "outputs": [
    {
     "name": "stdout",
     "output_type": "stream",
     "text": [
      "using simplified commutator\n"
     ]
    },
    {
     "data": {
      "text/latex": [
       "$$m_0^{'} = e^{- i \\omega_{q} t} {m_{0}}$$"
      ],
      "text/plain": [
       "            -ⅈ⋅ω_q⋅t  \n",
       "m_0__{'} = ℯ        ⋅m"
      ]
     },
     "execution_count": 18,
     "metadata": {},
     "output_type": "execute_result"
    }
   ],
   "source": [
    "from sympsi.hyqu import unitary_transformation\n",
    "mq1 = unitary_transformation(U1, mq, N=3); Eq(symbols(\"m_0^{'}\"), mq1)"
   ]
  },
  {
   "cell_type": "code",
   "execution_count": 19,
   "id": "bc838d88",
   "metadata": {},
   "outputs": [
    {
     "name": "stdout",
     "output_type": "stream",
     "text": [
      "using simplified commutator\n"
     ]
    },
    {
     "data": {
      "text/latex": [
       "$$m_1^{'} = e^{- i \\omega_{k1} t} {m_{1}}$$"
      ],
      "text/plain": [
       "            -ⅈ⋅ωₖ₁⋅t  \n",
       "m_1__{'} = ℯ        ⋅m"
      ]
     },
     "execution_count": 19,
     "metadata": {},
     "output_type": "execute_result"
    }
   ],
   "source": [
    "m11 = unitary_transformation(U1, m1, N=3); Eq(symbols(\"m_1^{'}\"), m11)"
   ]
  },
  {
   "cell_type": "markdown",
   "id": "3c0c011d",
   "metadata": {},
   "source": [
    "Looks good. In case you're wondering: The _unitary_transformation()_ function in hyqu differs slightly from the one in qutility.py. There was a little problem with commutators not being evaluated which is why we introduced a bool parameter called _simplify_commutator_ which is set to True by default. Check the file for more information.\n",
    "\n",
    "Now, let's try to transform our entire Hamiltonian. We'll also want to simplify the resulting expression slightly by pulling together the exponentials and introducing some new symbols..."
   ]
  },
  {
   "cell_type": "code",
   "execution_count": 9,
   "id": "ae169a89",
   "metadata": {},
   "outputs": [
    {
     "name": "stdout",
     "output_type": "stream",
     "text": [
      "using simplified commutator\n"
     ]
    },
    {
     "data": {
      "text/latex": [
       "$$\\Omega_{1} e^{- i \\omega_{j1} t} e^{i \\omega_{q} t} {{m_{0}}^\\dagger} - \\frac{\\alpha {{m_{0}}^\\dagger}^{2}}{2} {m_{0}}^{2} + g_{1} e^{- i \\omega_{k1} t} e^{i \\omega_{q} t} {{m_{0}}^\\dagger} {m_{1}} + e^{i \\omega_{j1} t} e^{- i \\omega_{q} t} \\overline{\\Omega_{1}} {m_{0}} + e^{i \\omega_{k1} t} e^{- i \\omega_{q} t} \\overline{g_{1}} {m_{0}} {{m_{1}}^\\dagger}$$"
      ],
      "text/plain": [
       "                                  2                                           \n",
       "                              ⎛ †⎞   2                                        \n",
       "    -ⅈ⋅ω_j1⋅t  ⅈ⋅ω_q⋅t  †   α⋅⎝m ⎠ ⋅m        -ⅈ⋅ωₖ₁⋅t  ⅈ⋅ω_q⋅t  †      ⅈ⋅ω_j1⋅\n",
       "Ω₁⋅ℯ         ⋅ℯ       ⋅m  - ────────── + g₁⋅ℯ        ⋅ℯ       ⋅m ⋅m + ℯ       \n",
       "                                2                                             \n",
       "\n",
       "                                             \n",
       "                                             \n",
       "t  -ⅈ⋅ω_q⋅t __      ⅈ⋅ωₖ₁⋅t  -ⅈ⋅ω_q⋅t __    †\n",
       " ⋅ℯ        ⋅Ω₁⋅m + ℯ       ⋅ℯ        ⋅g₁⋅m⋅m \n",
       "                                             "
      ]
     },
     "execution_count": 9,
     "metadata": {},
     "output_type": "execute_result"
    }
   ],
   "source": [
    "from sympsi.hyqu import hamiltonian_transformation\n",
    "H1 = hamiltonian_transformation(U1, H, N=3).expand(); H1"
   ]
  },
  {
   "cell_type": "code",
   "execution_count": 66,
   "id": "24e6b897",
   "metadata": {},
   "outputs": [
    {
     "data": {
      "text/latex": [
       "$$H_{1} = \\Omega_{1} e^{- i \\delta_{j1} t} {{m_{0}}^\\dagger} - \\frac{\\alpha {{m_{0}}^\\dagger}^{2}}{2} {m_{0}}^{2} + g_{1} e^{- i \\delta_{k1} t} {{m_{0}}^\\dagger} {m_{1}} + e^{i \\delta_{j1} t} \\overline{\\Omega_{1}} {m_{0}} + e^{i \\delta_{k1} t} \\overline{g_{1}} {m_{0}} {{m_{1}}^\\dagger}$$"
      ],
      "text/plain": [
       "                              2                                               \n",
       "                          ⎛ †⎞   2                                            \n",
       "         -ⅈ⋅δ_j1⋅t  †   α⋅⎝m ⎠ ⋅m        -ⅈ⋅δₖ₁⋅t  †      ⅈ⋅δ_j1⋅t __      ⅈ⋅δ\n",
       "H₁ = Ω₁⋅ℯ         ⋅m  - ────────── + g₁⋅ℯ        ⋅m ⋅m + ℯ        ⋅Ω₁⋅m + ℯ   \n",
       "                            2                                                 \n",
       "\n",
       "            \n",
       "            \n",
       "ₖ₁⋅t __    †\n",
       "    ⋅g₁⋅m⋅m \n",
       "            "
      ]
     },
     "execution_count": 66,
     "metadata": {},
     "output_type": "execute_result"
    }
   ],
   "source": [
    "from sympsi.hyqu import simplify_exp\n",
    "dk1, dj1 = symbols(\"delta_k1, delta_j1\")\n",
    "sub = [(wj1-wq,dj1), (wk1-wq,dk1)]\n",
    "H1 = simplify_exp(H1, sub); Eq(symbols(\"H_1\"), H1)"
   ]
  },
  {
   "cell_type": "markdown",
   "id": "e368eb20",
   "metadata": {},
   "source": [
    "Next up would be the Schrieffer-Wolf transformation. We still encountered some difficulties but for the sake of documentation, here's how far we got with a very simple **U2** using just one parameter $\\lambda_1$."
   ]
  },
  {
   "cell_type": "code",
   "execution_count": 15,
   "id": "bb716585",
   "metadata": {},
   "outputs": [
    {
     "data": {
      "text/latex": [
       "$$U_{2} = e^{- \\lambda_{1} e^{- i \\delta_{k1} t} {m_{1}} {{m_{0}}^\\dagger} + e^{i \\delta_{k1} t} \\overline{\\lambda_{1}} {{m_{1}}^\\dagger} {m_{0}}}$$"
      ],
      "text/plain": [
       "            -ⅈ⋅δₖ₁⋅t    †    ⅈ⋅δₖ₁⋅t __  †  \n",
       "      - λ₁⋅ℯ        ⋅m⋅m  + ℯ       ⋅λ₁⋅m ⋅m\n",
       "U₂ = ℯ                                      "
      ]
     },
     "execution_count": 15,
     "metadata": {},
     "output_type": "execute_result"
    }
   ],
   "source": [
    "l1 = symbols(\"lambda_1\")\n",
    "U2 = exp(conjugate(l1)*Dagger(m1)*mq*exp(I*dk1*t) - l1*m1*Dagger(mq)*exp(-I*dk1*t)); Eq(symbols(\"U_2\"), U2)"
   ]
  },
  {
   "cell_type": "code",
   "execution_count": 20,
   "id": "24a39232",
   "metadata": {},
   "outputs": [
    {
     "name": "stdout",
     "output_type": "stream",
     "text": [
      "using simplified commutator\n"
     ]
    },
    {
     "data": {
      "text/latex": [
       "$$m_0^{''} = \\lambda_{1} e^{- i \\delta_{k1} t} {m_{1}} + \\left(- \\frac{\\lambda_{1} \\overline{\\lambda_{1}}}{2} + 1\\right) {m_{0}}$$"
      ],
      "text/plain": [
       "                             ⎛     __    ⎞  \n",
       "                -ⅈ⋅δₖ₁⋅t     ⎜  λ₁⋅λ₁    ⎟  \n",
       "m_0__{''} = λ₁⋅ℯ        ⋅m + ⎜- ───── + 1⎟⋅m\n",
       "                             ⎝    2      ⎠  "
      ]
     },
     "execution_count": 20,
     "metadata": {},
     "output_type": "execute_result"
    }
   ],
   "source": [
    "mq2 = unitary_transformation(U2, mq, N=3); Eq(symbols(\"m_0^{''}\"), mq2)"
   ]
  },
  {
   "cell_type": "code",
   "execution_count": 21,
   "id": "a23576ee",
   "metadata": {},
   "outputs": [
    {
     "name": "stdout",
     "output_type": "stream",
     "text": [
      "using simplified commutator\n"
     ]
    },
    {
     "data": {
      "text/latex": [
       "$$m_1^{'} = \\left(- \\frac{\\lambda_{1} \\overline{\\lambda_{1}}}{2} + 1\\right) {m_{1}} - e^{i \\delta_{k1} t} \\overline{\\lambda_{1}} {m_{0}}$$"
      ],
      "text/plain": [
       "           ⎛     __    ⎞                  \n",
       "           ⎜  λ₁⋅λ₁    ⎟      ⅈ⋅δₖ₁⋅t __  \n",
       "m_1__{'} = ⎜- ───── + 1⎟⋅m - ℯ       ⋅λ₁⋅m\n",
       "           ⎝    2      ⎠                  "
      ]
     },
     "execution_count": 21,
     "metadata": {},
     "output_type": "execute_result"
    }
   ],
   "source": [
    "m12 = unitary_transformation(U2, m1, N=3); Eq(symbols(\"m_1^{'}\"), m12)"
   ]
  },
  {
   "cell_type": "markdown",
   "id": "fd889134",
   "metadata": {},
   "source": [
    "Indeed, this is how we want our operators to transform up to second order in $\\lambda$. The Hamiltonian wouldn't quite work out - we'll try to keep working on this.\n",
    "\n"
   ]
  },
  {
   "cell_type": "markdown",
   "id": "cdb42218",
   "metadata": {},
   "source": [
    "# Higher-Order RWA "
   ]
  },
  {
   "cell_type": "markdown",
   "id": "7640aa31",
   "metadata": {},
   "source": [
    "With this in mind, we'll leave out the displacement transformation **U3** for now. Also, we'll follow Xinyu's thesis and demonstrate the implementation of higher order RWA approximations by focusing on specific terms from that way-too-long Hamiltonian on p. 6. More specifically, we'll choose to work with the terms **H10** and **H13** and package our symbols more conveniently to generate these two terms. "
   ]
  },
  {
   "cell_type": "code",
   "execution_count": 22,
   "id": "bb775e43",
   "metadata": {},
   "outputs": [],
   "source": [
    "dk1, dk2, dj1, dj2 = symbols(\"delta_k1, delta_k2, delta_j1, delta_j2\")\n",
    "l1, l2, x1, x2 = symbols(\"lambda_1, lambda_2, xi_1, xi_2\")\n",
    "dk = [dk1, dk2]\n",
    "dj = [dj1, dj2]\n",
    "l = [l1, l2]\n",
    "x = [x1, x2]\n",
    "m = [m1, m2]\n",
    "\n",
    "H10 = 0\n",
    "H13 = 0\n",
    "sub = [a, wq, wk1, wk2, dk1, dk2, dj1, dj2]\n",
    "for h in range(2):\n",
    "    for i in range(1):\n",
    "        for j in range(1):\n",
    "            H10 += conjugate(x[h])*x[i]*x[j]*Dagger(mq)*exp(I*t*(-1*a*Dagger(mq)*mq + dj[h]-dj[i]-dj[j]))\n",
    "for k in range(2):\n",
    "    for j in range(1):\n",
    "        for s in range(1): # using s instead of l for ease of notation\n",
    "            H13 += x[j]*conjugate(l[k])*l[s]*Dagger(m[k])*m[s]*Dagger(mq)*exp(I*t*(-1*a*Dagger(mq)*mq + dj[k]-dk[j]-dk[s]))\n",
    "            \n",
    "H10 += conjugate_expression(H10, sub)\n",
    "H13 += conjugate_expression(H13, sub)\n",
    "H10 *= -a\n",
    "H13 *= -2 * a\n",
    "H10 = H10.expand()\n",
    "H13 = H13.expand()"
   ]
  },
  {
   "cell_type": "markdown",
   "id": "4724af6c",
   "metadata": {},
   "source": [
    "Let's briefly have a look at what terms we are now talking about:"
   ]
  },
  {
   "cell_type": "code",
   "execution_count": 26,
   "id": "8f3ee1c1",
   "metadata": {},
   "outputs": [
    {
     "data": {
      "text/latex": [
       "$$H_{10} = - \\alpha \\xi_{1}^{2} \\overline{\\xi_{1}} {{m_{0}}^\\dagger} e^{- i \\alpha t {{m_{0}}^\\dagger} {m_{0}} - i \\delta_{j1} t} - \\alpha \\xi_{1}^{2} \\overline{\\xi_{2}} {{m_{0}}^\\dagger} e^{- i \\alpha t {{m_{0}}^\\dagger} {m_{0}} - 2 i \\delta_{j1} t + i \\delta_{j2} t} - \\alpha \\xi_{1} \\overline{\\xi_{1}}^{2} {m_{0}} e^{i \\alpha t {m_{0}} {{m_{0}}^\\dagger} + i \\delta_{j1} t} - \\alpha \\xi_{2} \\overline{\\xi_{1}}^{2} {m_{0}} e^{i \\alpha t {m_{0}} {{m_{0}}^\\dagger} + 2 i \\delta_{j1} t - i \\delta_{j2} t}$$"
      ],
      "text/plain": [
       "                                 †                                      †     \n",
       "               2 __  †  - ⅈ⋅α⋅t⋅m ⋅m - ⅈ⋅δ_j1⋅t       2 __  †  - ⅈ⋅α⋅t⋅m ⋅m - \n",
       "H_{10} = - α⋅ξ₁ ⋅ξ₁⋅m ⋅ℯ                        - α⋅ξ₁ ⋅ξ₂⋅m ⋅ℯ               \n",
       "\n",
       "                               2             †                     2          \n",
       "2⋅ⅈ⋅δ_j1⋅t + ⅈ⋅δ_j2⋅t        __     ⅈ⋅α⋅t⋅m⋅m  + ⅈ⋅δ_j1⋅t        __     ⅈ⋅α⋅t⋅\n",
       "                      - α⋅ξ₁⋅ξ₁ ⋅m⋅ℯ                      - α⋅ξ₂⋅ξ₁ ⋅m⋅ℯ      \n",
       "\n",
       "   †                        \n",
       "m⋅m  + 2⋅ⅈ⋅δ_j1⋅t - ⅈ⋅δ_j2⋅t\n",
       "                            "
      ]
     },
     "execution_count": 26,
     "metadata": {},
     "output_type": "execute_result"
    }
   ],
   "source": [
    "Eq(symbols(\"H_{10}\"), H10)"
   ]
  },
  {
   "cell_type": "code",
   "execution_count": 27,
   "id": "e62dda59",
   "metadata": {},
   "outputs": [
    {
     "data": {
      "text/latex": [
       "$$H_{13} = - 2 \\alpha \\lambda_{1} \\xi_{1} \\overline{\\lambda_{1}} {{m_{1}}^\\dagger} {m_{1}} {{m_{0}}^\\dagger} e^{- i \\alpha t {{m_{0}}^\\dagger} {m_{0}} + i \\delta_{j1} t - 2 i \\delta_{k1} t} - 2 \\alpha \\lambda_{1} \\xi_{1} \\overline{\\lambda_{2}} {{m_{2}}^\\dagger} {m_{1}} {{m_{0}}^\\dagger} e^{- i \\alpha t {{m_{0}}^\\dagger} {m_{0}} + i \\delta_{j2} t - 2 i \\delta_{k1} t} - 2 \\alpha \\lambda_{1} \\overline{\\lambda_{1}} \\overline{\\xi_{1}} {m_{1}} {{m_{1}}^\\dagger} {m_{0}} e^{i \\alpha t {m_{0}} {{m_{0}}^\\dagger} - i \\delta_{j1} t + 2 i \\delta_{k1} t} - 2 \\alpha \\lambda_{2} \\overline{\\lambda_{1}} \\overline{\\xi_{1}} {m_{2}} {{m_{1}}^\\dagger} {m_{0}} e^{i \\alpha t {m_{0}} {{m_{0}}^\\dagger} - i \\delta_{j2} t + 2 i \\delta_{k1} t}$$"
      ],
      "text/plain": [
       "                                          †                                   \n",
       "                     __  †    †  - ⅈ⋅α⋅t⋅m ⋅m + ⅈ⋅δ_j1⋅t - 2⋅ⅈ⋅δₖ₁⋅t          \n",
       "H_{13} = - 2⋅α⋅λ₁⋅ξ₁⋅λ₁⋅m ⋅m⋅m ⋅ℯ                                    - 2⋅α⋅λ₁⋅\n",
       "\n",
       "                        †                                                     \n",
       "   __  †    †  - ⅈ⋅α⋅t⋅m ⋅m + ⅈ⋅δ_j2⋅t - 2⋅ⅈ⋅δₖ₁⋅t          __ __    †    ⅈ⋅α⋅\n",
       "ξ₁⋅λ₂⋅m ⋅m⋅m ⋅ℯ                                    - 2⋅α⋅λ₁⋅λ₁⋅ξ₁⋅m⋅m ⋅m⋅ℯ    \n",
       "\n",
       "     †                                                        †               \n",
       "t⋅m⋅m  - ⅈ⋅δ_j1⋅t + 2⋅ⅈ⋅δₖ₁⋅t          __ __    †    ⅈ⋅α⋅t⋅m⋅m  - ⅈ⋅δ_j2⋅t + 2\n",
       "                              - 2⋅α⋅λ₂⋅λ₁⋅ξ₁⋅m⋅m ⋅m⋅ℯ                         \n",
       "\n",
       "        \n",
       "⋅ⅈ⋅δₖ₁⋅t\n",
       "        "
      ]
     },
     "execution_count": 27,
     "metadata": {},
     "output_type": "execute_result"
    }
   ],
   "source": [
    "Eq(symbols(\"H_{13}\"), H13)"
   ]
  },
  {
   "cell_type": "markdown",
   "id": "db254402",
   "metadata": {},
   "source": [
    "Right. To obtain the RWA coefficients, we will follow the following recipe:\n",
    "\n",
    "1) Generate the **\"building blocks\"**. (We've already got $H_{10}$ and $H_{13}$, but we still want their integrals $\\int_t\\ H_{10} dt$ and $\\int_t\\ H_{13} dt$. For this, we will be using _time_integral()_\n",
    "\n",
    "2) **Multiply** building blocks together, according to the formula for the RWA order of interest, e.g. (2.5.1) in Xinyu's thesis.\n",
    "\n",
    "3) Use the _trace()_ function to **eliminate terms** that would kill the qubit ground state. \n",
    "\n",
    "4) Use the _time_average()_ function to, well, perform the time averaging and thus keep only those terms that fulfill the **resonance condition**.\n",
    "\n",
    "Let's try it!"
   ]
  },
  {
   "cell_type": "code",
   "execution_count": 28,
   "id": "bed8a4b2",
   "metadata": {},
   "outputs": [],
   "source": [
    "from sympsi.hyqu import time_integral, trace, time_average, simplify_exp"
   ]
  },
  {
   "cell_type": "code",
   "execution_count": 31,
   "id": "97099e4a",
   "metadata": {},
   "outputs": [
    {
     "data": {
      "text/latex": [
       "$$H_{10}^{int} = - \\frac{\\alpha \\xi_{1}^{2} \\overline{\\xi_{2}} {{m_{0}}^\\dagger}}{- \\alpha - 2 \\delta_{j1} + \\delta_{j2}} e^{- i \\alpha t {{m_{0}}^\\dagger} {m_{0}} - 2 i \\delta_{j1} t + i \\delta_{j2} t} - \\frac{\\alpha \\xi_{1}^{2} \\overline{\\xi_{1}} {{m_{0}}^\\dagger}}{- \\alpha - \\delta_{j1}} e^{- i \\alpha t {{m_{0}}^\\dagger} {m_{0}} - i \\delta_{j1} t} - \\frac{\\alpha \\xi_{1} \\overline{\\xi_{1}}^{2} {m_{0}}}{\\alpha + \\delta_{j1}} e^{i \\alpha t {m_{0}} {{m_{0}}^\\dagger} + i \\delta_{j1} t} - \\frac{\\alpha \\xi_{2} \\overline{\\xi_{1}}^{2} {m_{0}}}{\\alpha + 2 \\delta_{j1} - \\delta_{j2}} e^{i \\alpha t {m_{0}} {{m_{0}}^\\dagger} + 2 i \\delta_{j1} t - i \\delta_{j2} t}$$"
      ],
      "text/plain": [
       "                                        †                                     \n",
       "                      2 __  †  - ⅈ⋅α⋅t⋅m ⋅m - 2⋅ⅈ⋅δ_j1⋅t + ⅈ⋅δ_j2⋅t       2 __\n",
       "                  α⋅ξ₁ ⋅ξ₂⋅m ⋅ℯ                                       α⋅ξ₁ ⋅ξ₁\n",
       "H_{10}__{int} = - ───────────────────────────────────────────────── - ────────\n",
       "                                  -α - 2⋅δ_j1 + δ_j2                          \n",
       "\n",
       "              †                       2             †                     2   \n",
       "  †  - ⅈ⋅α⋅t⋅m ⋅m - ⅈ⋅δ_j1⋅t        __     ⅈ⋅α⋅t⋅m⋅m  + ⅈ⋅δ_j1⋅t        __    \n",
       "⋅m ⋅ℯ                          α⋅ξ₁⋅ξ₁ ⋅m⋅ℯ                        α⋅ξ₂⋅ξ₁ ⋅m⋅\n",
       "──────────────────────────── - ───────────────────────────────── - ───────────\n",
       "     -α - δ_j1                              α + δ_j1                          \n",
       "\n",
       "          †                        \n",
       " ⅈ⋅α⋅t⋅m⋅m  + 2⋅ⅈ⋅δ_j1⋅t - ⅈ⋅δ_j2⋅t\n",
       "ℯ                                  \n",
       "───────────────────────────────────\n",
       "   α + 2⋅δ_j1 - δ_j2               "
      ]
     },
     "execution_count": 31,
     "metadata": {},
     "output_type": "execute_result"
    }
   ],
   "source": [
    "H10_int = time_integral(H10); Eq(symbols(\"H_{10}^{int}\"), H10_int)"
   ]
  },
  {
   "cell_type": "code",
   "execution_count": 33,
   "id": "9235d619",
   "metadata": {},
   "outputs": [
    {
     "data": {
      "text/latex": [
       "$$H_{13}^{int} = - \\frac{2 \\alpha \\lambda_{1} \\xi_{1} \\overline{\\lambda_{2}} {{m_{2}}^\\dagger} {m_{1}} {{m_{0}}^\\dagger}}{- \\alpha + \\delta_{j2} - 2 \\delta_{k1}} e^{- i \\alpha t {{m_{0}}^\\dagger} {m_{0}} + i \\delta_{j2} t - 2 i \\delta_{k1} t} - \\frac{2 \\alpha \\lambda_{1} \\xi_{1} \\overline{\\lambda_{1}} {{m_{1}}^\\dagger} {m_{1}} {{m_{0}}^\\dagger}}{- \\alpha + \\delta_{j1} - 2 \\delta_{k1}} e^{- i \\alpha t {{m_{0}}^\\dagger} {m_{0}} + i \\delta_{j1} t - 2 i \\delta_{k1} t} - \\frac{2 \\alpha \\lambda_{1} \\overline{\\lambda_{1}} \\overline{\\xi_{1}} {m_{1}} {{m_{1}}^\\dagger} {m_{0}}}{\\alpha - \\delta_{j1} + 2 \\delta_{k1}} e^{i \\alpha t {m_{0}} {{m_{0}}^\\dagger} - i \\delta_{j1} t + 2 i \\delta_{k1} t} - \\frac{2 \\alpha \\lambda_{2} \\overline{\\lambda_{1}} \\overline{\\xi_{1}} {m_{2}} {{m_{1}}^\\dagger} {m_{0}}}{\\alpha - \\delta_{j2} + 2 \\delta_{k1}} e^{i \\alpha t {m_{0}} {{m_{0}}^\\dagger} - i \\delta_{j2} t + 2 i \\delta_{k1} t}$$"
      ],
      "text/plain": [
       "                                                 †                            \n",
       "                            __  †    †  - ⅈ⋅α⋅t⋅m ⋅m + ⅈ⋅δ_j2⋅t - 2⋅ⅈ⋅δₖ₁⋅t   \n",
       "                  2⋅α⋅λ₁⋅ξ₁⋅λ₂⋅m ⋅m⋅m ⋅ℯ                                      \n",
       "H_{13}__{int} = - ───────────────────────────────────────────────────────── - \n",
       "                                      -α + δ_j2 - 2⋅δₖ₁                       \n",
       "\n",
       "                               †                                              \n",
       "          __  †    †  - ⅈ⋅α⋅t⋅m ⋅m + ⅈ⋅δ_j1⋅t - 2⋅ⅈ⋅δₖ₁⋅t          __ __    † \n",
       "2⋅α⋅λ₁⋅ξ₁⋅λ₁⋅m ⋅m⋅m ⋅ℯ                                      2⋅α⋅λ₁⋅λ₁⋅ξ₁⋅m⋅m ⋅\n",
       "───────────────────────────────────────────────────────── - ──────────────────\n",
       "                    -α + δ_j1 - 2⋅δₖ₁                                         \n",
       "\n",
       "            †                                                        †        \n",
       "   ⅈ⋅α⋅t⋅m⋅m  - ⅈ⋅δ_j1⋅t + 2⋅ⅈ⋅δₖ₁⋅t          __ __    †    ⅈ⋅α⋅t⋅m⋅m  - ⅈ⋅δ_j\n",
       "m⋅ℯ                                    2⋅α⋅λ₂⋅λ₁⋅ξ₁⋅m⋅m ⋅m⋅ℯ                  \n",
       "──────────────────────────────────── - ───────────────────────────────────────\n",
       " α - δ_j1 + 2⋅δₖ₁                                         α - δ_j2 + 2⋅δₖ₁    \n",
       "\n",
       "               \n",
       "2⋅t + 2⋅ⅈ⋅δₖ₁⋅t\n",
       "               \n",
       "───────────────\n",
       "               "
      ]
     },
     "execution_count": 33,
     "metadata": {},
     "output_type": "execute_result"
    }
   ],
   "source": [
    "H13_int = time_integral(H13); Eq(symbols(\"H_{13}^{int}\"), H13_int)"
   ]
  },
  {
   "cell_type": "markdown",
   "id": "12841ec5",
   "metadata": {},
   "source": [
    "Now we've got our building blocks ready. Please note, however, that when integrating, we swept the qubit operators that should still be appearing in the denominators under the rug. Otherwise, we ran into problems in the next step. But after all, operators in the denominator are problematic anyway... \n",
    "\n",
    "So, brace yourself for the multiplication - the expression will be rather lengthy!"
   ]
  },
  {
   "cell_type": "code",
   "execution_count": 34,
   "id": "5369138d",
   "metadata": {},
   "outputs": [
    {
     "data": {
      "text/latex": [
       "$$H_{mul} = \\frac{2 \\alpha^{2} \\lambda_{1} \\xi_{1}^{3} \\overline{\\lambda_{2}} \\overline{\\xi_{1}} {{m_{0}}^\\dagger}}{- \\alpha + \\delta_{j2} - 2 \\delta_{k1}} e^{- i \\alpha t {{m_{0}}^\\dagger} {m_{0}} - i \\delta_{j1} t} {{m_{2}}^\\dagger} {m_{1}} {{m_{0}}^\\dagger} e^{- i \\alpha t {{m_{0}}^\\dagger} {m_{0}} + i \\delta_{j2} t - 2 i \\delta_{k1} t} + \\frac{2 \\alpha^{2} \\lambda_{1} \\xi_{1}^{3} \\overline{\\lambda_{2}} \\overline{\\xi_{2}} {{m_{0}}^\\dagger}}{- \\alpha + \\delta_{j2} - 2 \\delta_{k1}} e^{- i \\alpha t {{m_{0}}^\\dagger} {m_{0}} - 2 i \\delta_{j1} t + i \\delta_{j2} t} {{m_{2}}^\\dagger} {m_{1}} {{m_{0}}^\\dagger} e^{- i \\alpha t {{m_{0}}^\\dagger} {m_{0}} + i \\delta_{j2} t - 2 i \\delta_{k1} t} + \\frac{2 \\alpha^{2} \\lambda_{1} \\xi_{1}^{3} \\overline{\\lambda_{1}} \\overline{\\xi_{1}} {{m_{0}}^\\dagger}}{- \\alpha + \\delta_{j1} - 2 \\delta_{k1}} e^{- i \\alpha t {{m_{0}}^\\dagger} {m_{0}} - i \\delta_{j1} t} {{m_{1}}^\\dagger} {m_{1}} {{m_{0}}^\\dagger} e^{- i \\alpha t {{m_{0}}^\\dagger} {m_{0}} + i \\delta_{j1} t - 2 i \\delta_{k1} t} + \\frac{2 \\alpha^{2} \\lambda_{1} \\xi_{1}^{3} \\overline{\\lambda_{1}} \\overline{\\xi_{2}} {{m_{0}}^\\dagger}}{- \\alpha + \\delta_{j1} - 2 \\delta_{k1}} e^{- i \\alpha t {{m_{0}}^\\dagger} {m_{0}} - 2 i \\delta_{j1} t + i \\delta_{j2} t} {{m_{1}}^\\dagger} {m_{1}} {{m_{0}}^\\dagger} e^{- i \\alpha t {{m_{0}}^\\dagger} {m_{0}} + i \\delta_{j1} t - 2 i \\delta_{k1} t} + \\frac{2 \\alpha^{2} \\lambda_{1} \\xi_{1}^{2} \\overline{\\lambda_{1}} \\overline{\\xi_{1}}^{2} {{m_{0}}^\\dagger}}{\\alpha - \\delta_{j1} + 2 \\delta_{k1}} e^{- i \\alpha t {{m_{0}}^\\dagger} {m_{0}} - i \\delta_{j1} t} {m_{1}} {{m_{1}}^\\dagger} {m_{0}} e^{i \\alpha t {m_{0}} {{m_{0}}^\\dagger} - i \\delta_{j1} t + 2 i \\delta_{k1} t} + \\frac{2 \\alpha^{2} \\lambda_{1} \\xi_{1}^{2} \\overline{\\lambda_{1}} \\overline{\\xi_{1}} \\overline{\\xi_{2}} {{m_{0}}^\\dagger}}{\\alpha - \\delta_{j1} + 2 \\delta_{k1}} e^{- i \\alpha t {{m_{0}}^\\dagger} {m_{0}} - 2 i \\delta_{j1} t + i \\delta_{j2} t} {m_{1}} {{m_{1}}^\\dagger} {m_{0}} e^{i \\alpha t {m_{0}} {{m_{0}}^\\dagger} - i \\delta_{j1} t + 2 i \\delta_{k1} t} + \\frac{2 \\alpha^{2} \\lambda_{1} \\xi_{1}^{2} \\overline{\\lambda_{2}} \\overline{\\xi_{1}}^{2} {m_{0}}}{- \\alpha + \\delta_{j2} - 2 \\delta_{k1}} e^{i \\alpha t {m_{0}} {{m_{0}}^\\dagger} + i \\delta_{j1} t} {{m_{2}}^\\dagger} {m_{1}} {{m_{0}}^\\dagger} e^{- i \\alpha t {{m_{0}}^\\dagger} {m_{0}} + i \\delta_{j2} t - 2 i \\delta_{k1} t} + \\frac{2 \\alpha^{2} \\lambda_{1} \\xi_{1}^{2} \\overline{\\lambda_{1}} \\overline{\\xi_{1}}^{2} {m_{0}}}{- \\alpha + \\delta_{j1} - 2 \\delta_{k1}} e^{i \\alpha t {m_{0}} {{m_{0}}^\\dagger} + i \\delta_{j1} t} {{m_{1}}^\\dagger} {m_{1}} {{m_{0}}^\\dagger} e^{- i \\alpha t {{m_{0}}^\\dagger} {m_{0}} + i \\delta_{j1} t - 2 i \\delta_{k1} t} + \\frac{2 \\alpha^{2} \\lambda_{1} \\xi_{1} \\xi_{2} \\overline{\\lambda_{2}} \\overline{\\xi_{1}}^{2} {m_{0}}}{- \\alpha + \\delta_{j2} - 2 \\delta_{k1}} e^{i \\alpha t {m_{0}} {{m_{0}}^\\dagger} + 2 i \\delta_{j1} t - i \\delta_{j2} t} {{m_{2}}^\\dagger} {m_{1}} {{m_{0}}^\\dagger} e^{- i \\alpha t {{m_{0}}^\\dagger} {m_{0}} + i \\delta_{j2} t - 2 i \\delta_{k1} t} + \\frac{2 \\alpha^{2} \\lambda_{1} \\xi_{1} \\xi_{2} \\overline{\\lambda_{1}} \\overline{\\xi_{1}}^{2} {m_{0}}}{- \\alpha + \\delta_{j1} - 2 \\delta_{k1}} e^{i \\alpha t {m_{0}} {{m_{0}}^\\dagger} + 2 i \\delta_{j1} t - i \\delta_{j2} t} {{m_{1}}^\\dagger} {m_{1}} {{m_{0}}^\\dagger} e^{- i \\alpha t {{m_{0}}^\\dagger} {m_{0}} + i \\delta_{j1} t - 2 i \\delta_{k1} t} + \\frac{2 \\alpha^{2} \\lambda_{1} \\xi_{1} \\overline{\\lambda_{1}} \\overline{\\xi_{1}}^{3} {m_{0}}}{\\alpha - \\delta_{j1} + 2 \\delta_{k1}} e^{i \\alpha t {m_{0}} {{m_{0}}^\\dagger} + i \\delta_{j1} t} {m_{1}} {{m_{1}}^\\dagger} {m_{0}} e^{i \\alpha t {m_{0}} {{m_{0}}^\\dagger} - i \\delta_{j1} t + 2 i \\delta_{k1} t} + \\frac{2 \\alpha^{2} \\lambda_{1} \\xi_{2} \\overline{\\lambda_{1}} \\overline{\\xi_{1}}^{3} {m_{0}}}{\\alpha - \\delta_{j1} + 2 \\delta_{k1}} e^{i \\alpha t {m_{0}} {{m_{0}}^\\dagger} + 2 i \\delta_{j1} t - i \\delta_{j2} t} {m_{1}} {{m_{1}}^\\dagger} {m_{0}} e^{i \\alpha t {m_{0}} {{m_{0}}^\\dagger} - i \\delta_{j1} t + 2 i \\delta_{k1} t} + \\frac{2 \\alpha^{2} \\lambda_{2} \\xi_{1}^{2} \\overline{\\lambda_{1}} \\overline{\\xi_{1}}^{2} {{m_{0}}^\\dagger}}{\\alpha - \\delta_{j2} + 2 \\delta_{k1}} e^{- i \\alpha t {{m_{0}}^\\dagger} {m_{0}} - i \\delta_{j1} t} {m_{2}} {{m_{1}}^\\dagger} {m_{0}} e^{i \\alpha t {m_{0}} {{m_{0}}^\\dagger} - i \\delta_{j2} t + 2 i \\delta_{k1} t} + \\frac{2 \\alpha^{2} \\lambda_{2} \\xi_{1}^{2} \\overline{\\lambda_{1}} \\overline{\\xi_{1}} \\overline{\\xi_{2}} {{m_{0}}^\\dagger}}{\\alpha - \\delta_{j2} + 2 \\delta_{k1}} e^{- i \\alpha t {{m_{0}}^\\dagger} {m_{0}} - 2 i \\delta_{j1} t + i \\delta_{j2} t} {m_{2}} {{m_{1}}^\\dagger} {m_{0}} e^{i \\alpha t {m_{0}} {{m_{0}}^\\dagger} - i \\delta_{j2} t + 2 i \\delta_{k1} t} + \\frac{2 \\alpha^{2} \\lambda_{2} \\xi_{1} \\overline{\\lambda_{1}} \\overline{\\xi_{1}}^{3} {m_{0}}}{\\alpha - \\delta_{j2} + 2 \\delta_{k1}} e^{i \\alpha t {m_{0}} {{m_{0}}^\\dagger} + i \\delta_{j1} t} {m_{2}} {{m_{1}}^\\dagger} {m_{0}} e^{i \\alpha t {m_{0}} {{m_{0}}^\\dagger} - i \\delta_{j2} t + 2 i \\delta_{k1} t} + \\frac{2 \\alpha^{2} \\lambda_{2} \\xi_{2} \\overline{\\lambda_{1}} \\overline{\\xi_{1}}^{3} {m_{0}}}{\\alpha - \\delta_{j2} + 2 \\delta_{k1}} e^{i \\alpha t {m_{0}} {{m_{0}}^\\dagger} + 2 i \\delta_{j1} t - i \\delta_{j2} t} {m_{2}} {{m_{1}}^\\dagger} {m_{0}} e^{i \\alpha t {m_{0}} {{m_{0}}^\\dagger} - i \\delta_{j2} t + 2 i \\delta_{k1} t}$$"
      ],
      "text/plain": [
       "                                         †                                †   \n",
       "             2      3 __ __  †  - ⅈ⋅α⋅t⋅m ⋅m - ⅈ⋅δ_j1⋅t  †    †  - ⅈ⋅α⋅t⋅m ⋅m \n",
       "          2⋅α ⋅λ₁⋅ξ₁ ⋅λ₂⋅ξ₁⋅m ⋅ℯ                       ⋅m ⋅m⋅m ⋅ℯ             \n",
       "H_{mul} = ────────────────────────────────────────────────────────────────────\n",
       "                                              -α + δ_j2 - 2⋅δₖ₁               \n",
       "\n",
       "                                                        †                     \n",
       "+ ⅈ⋅δ_j2⋅t - 2⋅ⅈ⋅δₖ₁⋅t      2      3 __ __  †  - ⅈ⋅α⋅t⋅m ⋅m - 2⋅ⅈ⋅δ_j1⋅t + ⅈ⋅δ\n",
       "                         2⋅α ⋅λ₁⋅ξ₁ ⋅λ₂⋅ξ₂⋅m ⋅ℯ                               \n",
       "────────────────────── + ─────────────────────────────────────────────────────\n",
       "                                                                    -α + δ_j2 \n",
       "\n",
       "                        †                                                     \n",
       "_j2⋅t  †    †  - ⅈ⋅α⋅t⋅m ⋅m + ⅈ⋅δ_j2⋅t - 2⋅ⅈ⋅δₖ₁⋅t      2      3 __ __  †  - ⅈ\n",
       "     ⋅m ⋅m⋅m ⋅ℯ                                      2⋅α ⋅λ₁⋅ξ₁ ⋅λ₁⋅ξ₁⋅m ⋅ℯ   \n",
       "────────────────────────────────────────────────── + ─────────────────────────\n",
       "- 2⋅δₖ₁                                                                       \n",
       "\n",
       "      †                                †                                      \n",
       "⋅α⋅t⋅m ⋅m - ⅈ⋅δ_j1⋅t  †    †  - ⅈ⋅α⋅t⋅m ⋅m + ⅈ⋅δ_j1⋅t - 2⋅ⅈ⋅δₖ₁⋅t      2      \n",
       "                    ⋅m ⋅m⋅m ⋅ℯ                                      2⋅α ⋅λ₁⋅ξ₁\n",
       "───────────────────────────────────────────────────────────────── + ──────────\n",
       "           -α + δ_j1 - 2⋅δₖ₁                                                  \n",
       "\n",
       "                     †                                             †          \n",
       "3 __ __  †  - ⅈ⋅α⋅t⋅m ⋅m - 2⋅ⅈ⋅δ_j1⋅t + ⅈ⋅δ_j2⋅t  †    †  - ⅈ⋅α⋅t⋅m ⋅m + ⅈ⋅δ_j\n",
       " ⋅λ₁⋅ξ₂⋅m ⋅ℯ                                    ⋅m ⋅m⋅m ⋅ℯ                    \n",
       "──────────────────────────────────────────────────────────────────────────────\n",
       "                                 -α + δ_j1 - 2⋅δₖ₁                            \n",
       "\n",
       "                                   2              †                           \n",
       "1⋅t - 2⋅ⅈ⋅δₖ₁⋅t      2      2 __ __   †  - ⅈ⋅α⋅t⋅m ⋅m - ⅈ⋅δ_j1⋅t    †    ⅈ⋅α⋅t\n",
       "                  2⋅α ⋅λ₁⋅ξ₁ ⋅λ₁⋅ξ₁ ⋅m ⋅ℯ                       ⋅m⋅m ⋅m⋅ℯ     \n",
       "─────────────── + ────────────────────────────────────────────────────────────\n",
       "                                                      α - δ_j1 + 2⋅δₖ₁        \n",
       "\n",
       "    †                                                            †            \n",
       "⋅m⋅m  - ⅈ⋅δ_j1⋅t + 2⋅ⅈ⋅δₖ₁⋅t      2      2 __ __ __  †  - ⅈ⋅α⋅t⋅m ⋅m - 2⋅ⅈ⋅δ_j\n",
       "                               2⋅α ⋅λ₁⋅ξ₁ ⋅λ₁⋅ξ₁⋅ξ₂⋅m ⋅ℯ                      \n",
       "──────────────────────────── + ───────────────────────────────────────────────\n",
       "                                                                           α -\n",
       "\n",
       "                                †                                           2 \n",
       "1⋅t + ⅈ⋅δ_j2⋅t    †    ⅈ⋅α⋅t⋅m⋅m  - ⅈ⋅δ_j1⋅t + 2⋅ⅈ⋅δₖ₁⋅t      2      2 __ __  \n",
       "              ⋅m⋅m ⋅m⋅ℯ                                    2⋅α ⋅λ₁⋅ξ₁ ⋅λ₂⋅ξ₁ ⋅\n",
       "──────────────────────────────────────────────────────── + ───────────────────\n",
       " δ_j1 + 2⋅δₖ₁                                                                 \n",
       "\n",
       "            †                              †                                  \n",
       "   ⅈ⋅α⋅t⋅m⋅m  + ⅈ⋅δ_j1⋅t  †    †  - ⅈ⋅α⋅t⋅m ⋅m + ⅈ⋅δ_j2⋅t - 2⋅ⅈ⋅δₖ₁⋅t      2  \n",
       "m⋅ℯ                     ⋅m ⋅m⋅m ⋅ℯ                                      2⋅α ⋅λ\n",
       "───────────────────────────────────────────────────────────────────── + ──────\n",
       "                -α + δ_j2 - 2⋅δₖ₁                                             \n",
       "\n",
       "           2             †                              †                     \n",
       "    2 __ __     ⅈ⋅α⋅t⋅m⋅m  + ⅈ⋅δ_j1⋅t  †    †  - ⅈ⋅α⋅t⋅m ⋅m + ⅈ⋅δ_j1⋅t - 2⋅ⅈ⋅δ\n",
       "₁⋅ξ₁ ⋅λ₁⋅ξ₁ ⋅m⋅ℯ                     ⋅m ⋅m⋅m ⋅ℯ                               \n",
       "──────────────────────────────────────────────────────────────────────────────\n",
       "                             -α + δ_j1 - 2⋅δₖ₁                                \n",
       "\n",
       "                          2             †                                     \n",
       "ₖ₁⋅t      2          __ __     ⅈ⋅α⋅t⋅m⋅m  + 2⋅ⅈ⋅δ_j1⋅t - ⅈ⋅δ_j2⋅t  †    †  - ⅈ\n",
       "       2⋅α ⋅λ₁⋅ξ₁⋅ξ₂⋅λ₂⋅ξ₁ ⋅m⋅ℯ                                  ⋅m ⋅m⋅m ⋅ℯ   \n",
       "──── + ───────────────────────────────────────────────────────────────────────\n",
       "                                                  -α + δ_j2 - 2⋅δₖ₁           \n",
       "\n",
       "      †                                               2             †         \n",
       "⋅α⋅t⋅m ⋅m + ⅈ⋅δ_j2⋅t - 2⋅ⅈ⋅δₖ₁⋅t      2          __ __     ⅈ⋅α⋅t⋅m⋅m  + 2⋅ⅈ⋅δ_\n",
       "                                   2⋅α ⋅λ₁⋅ξ₁⋅ξ₂⋅λ₁⋅ξ₁ ⋅m⋅ℯ                   \n",
       "──────────────────────────────── + ───────────────────────────────────────────\n",
       "                                                                              \n",
       "\n",
       "                                  †                                           \n",
       "j1⋅t - ⅈ⋅δ_j2⋅t  †    †  - ⅈ⋅α⋅t⋅m ⋅m + ⅈ⋅δ_j1⋅t - 2⋅ⅈ⋅δₖ₁⋅t      2       __ _\n",
       "               ⋅m ⋅m⋅m ⋅ℯ                                      2⋅α ⋅λ₁⋅ξ₁⋅λ₁⋅ξ\n",
       "──────────────────────────────────────────────────────────── + ───────────────\n",
       "-α + δ_j1 - 2⋅δₖ₁                                                             \n",
       "\n",
       " 3             †                             †                                \n",
       "_     ⅈ⋅α⋅t⋅m⋅m  + ⅈ⋅δ_j1⋅t    †    ⅈ⋅α⋅t⋅m⋅m  - ⅈ⋅δ_j1⋅t + 2⋅ⅈ⋅δₖ₁⋅t      2  \n",
       "₁ ⋅m⋅ℯ                     ⋅m⋅m ⋅m⋅ℯ                                    2⋅α ⋅λ\n",
       "───────────────────────────────────────────────────────────────────── + ──────\n",
       "                   α - δ_j1 + 2⋅δₖ₁                                           \n",
       "\n",
       "          3             †                                          †          \n",
       "     __ __     ⅈ⋅α⋅t⋅m⋅m  + 2⋅ⅈ⋅δ_j1⋅t - ⅈ⋅δ_j2⋅t    †    ⅈ⋅α⋅t⋅m⋅m  - ⅈ⋅δ_j1⋅\n",
       "₁⋅ξ₂⋅λ₁⋅ξ₁ ⋅m⋅ℯ                                  ⋅m⋅m ⋅m⋅ℯ                    \n",
       "──────────────────────────────────────────────────────────────────────────────\n",
       "                                   α - δ_j1 + 2⋅δₖ₁                           \n",
       "\n",
       "                                 2              †                             \n",
       "t + 2⋅ⅈ⋅δₖ₁⋅t      2      2 __ __   †  - ⅈ⋅α⋅t⋅m ⋅m - ⅈ⋅δ_j1⋅t    †    ⅈ⋅α⋅t⋅m\n",
       "                2⋅α ⋅λ₂⋅ξ₁ ⋅λ₁⋅ξ₁ ⋅m ⋅ℯ                       ⋅m⋅m ⋅m⋅ℯ       \n",
       "───────────── + ──────────────────────────────────────────────────────────────\n",
       "                                                    α - δ_j2 + 2⋅δₖ₁          \n",
       "\n",
       "  †                                                            †              \n",
       "⋅m  - ⅈ⋅δ_j2⋅t + 2⋅ⅈ⋅δₖ₁⋅t      2      2 __ __ __  †  - ⅈ⋅α⋅t⋅m ⋅m - 2⋅ⅈ⋅δ_j1⋅\n",
       "                             2⋅α ⋅λ₂⋅ξ₁ ⋅λ₁⋅ξ₁⋅ξ₂⋅m ⋅ℯ                        \n",
       "────────────────────────── + ─────────────────────────────────────────────────\n",
       "                                                                         α - δ\n",
       "\n",
       "                              †                                          3    \n",
       "t + ⅈ⋅δ_j2⋅t    †    ⅈ⋅α⋅t⋅m⋅m  - ⅈ⋅δ_j2⋅t + 2⋅ⅈ⋅δₖ₁⋅t      2       __ __     \n",
       "            ⋅m⋅m ⋅m⋅ℯ                                    2⋅α ⋅λ₂⋅ξ₁⋅λ₁⋅ξ₁ ⋅m⋅ℯ\n",
       "────────────────────────────────────────────────────── + ─────────────────────\n",
       "_j2 + 2⋅δₖ₁                                                                   \n",
       "\n",
       "         †                             †                                      \n",
       "ⅈ⋅α⋅t⋅m⋅m  + ⅈ⋅δ_j1⋅t    †    ⅈ⋅α⋅t⋅m⋅m  - ⅈ⋅δ_j2⋅t + 2⋅ⅈ⋅δₖ₁⋅t      2       _\n",
       "                     ⋅m⋅m ⋅m⋅ℯ                                    2⋅α ⋅λ₂⋅ξ₂⋅λ\n",
       "─────────────────────────────────────────────────────────────── + ────────────\n",
       "             α - δ_j2 + 2⋅δₖ₁                                                 \n",
       "\n",
       "    3             †                                          †                \n",
       "_ __     ⅈ⋅α⋅t⋅m⋅m  + 2⋅ⅈ⋅δ_j1⋅t - ⅈ⋅δ_j2⋅t    †    ⅈ⋅α⋅t⋅m⋅m  - ⅈ⋅δ_j2⋅t + 2⋅\n",
       "₁⋅ξ₁ ⋅m⋅ℯ                                  ⋅m⋅m ⋅m⋅ℯ                          \n",
       "──────────────────────────────────────────────────────────────────────────────\n",
       "                             α - δ_j2 + 2⋅δₖ₁                                 \n",
       "\n",
       "       \n",
       "ⅈ⋅δₖ₁⋅t\n",
       "       \n",
       "───────\n",
       "       "
      ]
     },
     "execution_count": 34,
     "metadata": {},
     "output_type": "execute_result"
    }
   ],
   "source": [
    "H_mul = ((H10*H13_int).expand()); Eq(symbols(\"H_{mul}\"), H_mul)"
   ]
  },
  {
   "cell_type": "markdown",
   "id": "e4281a82",
   "metadata": {},
   "source": [
    "Fortunately, the partial trace over the qubit ground state is up next, meaning we can get ride of quite a few terms."
   ]
  },
  {
   "cell_type": "code",
   "execution_count": 36,
   "id": "f100733e",
   "metadata": {},
   "outputs": [
    {
     "data": {
      "text/latex": [
       "$$H_{mul}^{traced} = \\frac{2 \\alpha^{2} \\lambda_{1} \\xi_{1}^{3} \\overline{\\lambda_{2}} \\overline{\\xi_{1}} {{m_{2}}^\\dagger} {m_{1}}}{\\delta_{j2} - 2 \\delta_{k1}} e^{i t \\left(- 2 \\alpha - \\delta_{j1} + \\delta_{j2} - 2 \\delta_{k1}\\right)} + \\frac{2 \\alpha^{2} \\lambda_{1} \\xi_{1}^{3} \\overline{\\lambda_{2}} \\overline{\\xi_{2}} {{m_{2}}^\\dagger} {m_{1}}}{\\delta_{j2} - 2 \\delta_{k1}} e^{2 i t \\left(- \\alpha - \\delta_{j1} + \\delta_{j2} - \\delta_{k1}\\right)} + \\frac{2 \\alpha^{2} \\lambda_{1} \\xi_{1}^{3} \\overline{\\lambda_{1}} \\overline{\\xi_{2}} {{m_{1}}^\\dagger} {m_{1}}}{\\delta_{j1} - 2 \\delta_{k1}} e^{i t \\left(- 2 \\alpha - \\delta_{j1} + \\delta_{j2} - 2 \\delta_{k1}\\right)} + \\frac{2 \\alpha^{2} \\lambda_{1} \\xi_{1}^{3} \\overline{\\lambda_{1}} \\overline{\\xi_{1}} {{m_{1}}^\\dagger} {m_{1}}}{\\delta_{j1} - 2 \\delta_{k1}} e^{- 2 i t \\left(\\alpha + \\delta_{k1}\\right)} + \\frac{2 \\alpha^{2} \\lambda_{1} \\xi_{1}^{2} \\overline{\\lambda_{2}} \\overline{\\xi_{1}}^{2} {{m_{2}}^\\dagger} {m_{1}}}{\\delta_{j2} - 2 \\delta_{k1}} e^{i t \\left(\\delta_{j1} + \\delta_{j2} - 2 \\delta_{k1}\\right)} + \\frac{2 \\alpha^{2} \\lambda_{1} \\xi_{1}^{2} \\overline{\\lambda_{1}} \\overline{\\xi_{1}}^{2} {{m_{1}}^\\dagger} {m_{1}}}{\\delta_{j1} - 2 \\delta_{k1}} e^{2 i t \\left(\\delta_{j1} - \\delta_{k1}\\right)} + \\frac{2 \\alpha^{2} \\lambda_{1} \\xi_{1} \\xi_{2} \\overline{\\lambda_{2}} \\overline{\\xi_{1}}^{2} {{m_{2}}^\\dagger}}{\\delta_{j2} - 2 \\delta_{k1}} e^{2 i t \\left(\\delta_{j1} - \\delta_{k1}\\right)} {m_{1}} + \\frac{2 \\alpha^{2} \\lambda_{1} \\xi_{1} \\xi_{2} \\overline{\\lambda_{1}} \\overline{\\xi_{1}}^{2} {{m_{1}}^\\dagger}}{\\delta_{j1} - 2 \\delta_{k1}} e^{i t \\left(3 \\delta_{j1} - \\delta_{j2} - 2 \\delta_{k1}\\right)} {m_{1}}$$"
      ],
      "text/plain": [
       "                                                                              \n",
       "                       2      3  ⅈ⋅t⋅(-2⋅α - δ_j1 + δ_j2 - 2⋅δₖ₁) __ __  †    \n",
       "                    2⋅α ⋅λ₁⋅ξ₁ ⋅ℯ                                ⋅λ₂⋅ξ₁⋅m ⋅m  \n",
       "H_{mul}__{traced} = ──────────────────────────────────────────────────────── +\n",
       "                                          δ_j2 - 2⋅δₖ₁                        \n",
       "\n",
       "                                                                              \n",
       "    2      3  2⋅ⅈ⋅t⋅(-α - δ_j1 + δ_j2 - δₖ₁) __ __  †        2      3  ⅈ⋅t⋅(-2\n",
       " 2⋅α ⋅λ₁⋅ξ₁ ⋅ℯ                              ⋅λ₂⋅ξ₂⋅m ⋅m   2⋅α ⋅λ₁⋅ξ₁ ⋅ℯ       \n",
       " ────────────────────────────────────────────────────── + ────────────────────\n",
       "                      δ_j2 - 2⋅δₖ₁                                            \n",
       "\n",
       "                                                                              \n",
       "⋅α - δ_j1 + δ_j2 - 2⋅δₖ₁) __ __  †        2      3  -2⋅ⅈ⋅t⋅(α + δₖ₁) __ __  † \n",
       "                         ⋅λ₁⋅ξ₂⋅m ⋅m   2⋅α ⋅λ₁⋅ξ₁ ⋅ℯ                ⋅λ₁⋅ξ₁⋅m ⋅\n",
       "──────────────────────────────────── + ───────────────────────────────────────\n",
       "  δ_j1 - 2⋅δₖ₁                                       δ_j1 - 2⋅δₖ₁             \n",
       "\n",
       "                                                2                             \n",
       "       2      2  ⅈ⋅t⋅(δ_j1 + δ_j2 - 2⋅δₖ₁) __ __   †        2      2  2⋅ⅈ⋅t⋅(δ\n",
       "m   2⋅α ⋅λ₁⋅ξ₁ ⋅ℯ                         ⋅λ₂⋅ξ₁ ⋅m ⋅m   2⋅α ⋅λ₁⋅ξ₁ ⋅ℯ        \n",
       "─ + ────────────────────────────────────────────────── + ─────────────────────\n",
       "                       δ_j2 - 2⋅δₖ₁                                      δ_j1 \n",
       "\n",
       "                2                                               2             \n",
       "_j1 - δₖ₁) __ __   †        2           2⋅ⅈ⋅t⋅(δ_j1 - δₖ₁) __ __   †        2 \n",
       "          ⋅λ₁⋅ξ₁ ⋅m ⋅m   2⋅α ⋅λ₁⋅ξ₁⋅ξ₂⋅ℯ                  ⋅λ₂⋅ξ₁ ⋅m ⋅m   2⋅α ⋅\n",
       "────────────────────── + ───────────────────────────────────────────── + ─────\n",
       "- 2⋅δₖ₁                                   δ_j2 - 2⋅δₖ₁                        \n",
       "\n",
       "                                           2     \n",
       "          ⅈ⋅t⋅(3⋅δ_j1 - δ_j2 - 2⋅δₖ₁) __ __   †  \n",
       "λ₁⋅ξ₁⋅ξ₂⋅ℯ                           ⋅λ₁⋅ξ₁ ⋅m ⋅m\n",
       "─────────────────────────────────────────────────\n",
       "                δ_j1 - 2⋅δₖ₁                     "
      ]
     },
     "execution_count": 36,
     "metadata": {},
     "output_type": "execute_result"
    }
   ],
   "source": [
    "H_mul_trace = trace(H_mul); Eq(symbols(\"H_{mul}^{traced}\"),H_mul_trace)"
   ]
  },
  {
   "cell_type": "markdown",
   "id": "bb57846e",
   "metadata": {},
   "source": [
    "Nearly there, we can now apply a resonance condition and perform time averaging. Which coefficients are we left with?"
   ]
  },
  {
   "cell_type": "code",
   "execution_count": 37,
   "id": "dfb3d65a",
   "metadata": {},
   "outputs": [
    {
     "data": {
      "text/latex": [
       "$$\\frac{2 \\alpha^{2} \\lambda_{1} \\xi_{1}^{3} \\overline{\\lambda_{2}} \\overline{\\xi_{1}} {{m_{2}}^\\dagger} {m_{1}}}{\\delta_{j2} - 2 \\delta_{k1}} + \\frac{2 \\alpha^{2} \\lambda_{1} \\xi_{1}^{3} \\overline{\\lambda_{1}} \\overline{\\xi_{2}} {{m_{1}}^\\dagger} {m_{1}}}{\\delta_{j1} - 2 \\delta_{k1}}$$"
      ],
      "text/plain": [
       "   2      3 __ __  †        2      3 __ __  †  \n",
       "2⋅α ⋅λ₁⋅ξ₁ ⋅λ₂⋅ξ₁⋅m ⋅m   2⋅α ⋅λ₁⋅ξ₁ ⋅λ₁⋅ξ₂⋅m ⋅m\n",
       "────────────────────── + ──────────────────────\n",
       "     δ_j2 - 2⋅δₖ₁             δ_j1 - 2⋅δₖ₁     "
      ]
     },
     "execution_count": 37,
     "metadata": {},
     "output_type": "execute_result"
    }
   ],
   "source": [
    "time_average(H_mul_trace, [-dj1 + dj2 - 2*dk1])"
   ]
  },
  {
   "cell_type": "markdown",
   "id": "0134bfe1",
   "metadata": {},
   "source": [
    "As we can see, these coefficients indeed correspond to half of those in equation (3.17) in Xinyu's thesis. Success! \n",
    "We're already at the end of this little tutorial... next steps await! Here's a little to-do list:\n",
    "- Get all transformations to work.\n",
    "- Test $H_{10}$ and $H_{13}$ with more terms from the generating for-loops. Can we get the remaining terms from (3.17)?\n",
    "- Test further terms in second-order RWA.\n",
    "- Test higher-order RWA.\n",
    "\n",
    "Have fun with Sympsi! :D "
   ]
  }
 ],
 "metadata": {
  "kernelspec": {
   "display_name": "sympsi",
   "language": "python",
   "name": "sympsi"
  },
  "language_info": {
   "codemirror_mode": {
    "name": "ipython",
    "version": 3
   },
   "file_extension": ".py",
   "mimetype": "text/x-python",
   "name": "python",
   "nbconvert_exporter": "python",
   "pygments_lexer": "ipython3",
   "version": "3.9.5"
  }
 },
 "nbformat": 4,
 "nbformat_minor": 5
}
